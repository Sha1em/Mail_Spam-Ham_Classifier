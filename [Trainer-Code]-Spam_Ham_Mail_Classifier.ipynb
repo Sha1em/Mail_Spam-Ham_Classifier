{
  "nbformat": 4,
  "nbformat_minor": 0,
  "metadata": {
    "colab": {
      "provenance": []
    },
    "kernelspec": {
      "name": "python3",
      "display_name": "Python 3"
    },
    "language_info": {
      "name": "python"
    }
  },
  "cells": [
    {
      "cell_type": "markdown",
      "source": [
        "`Sha1em`\n",
        "# **Mail_Spam-Ham_Classifier** ____ 📨\n",
        "\n",
        "---\n",
        "\n"
      ],
      "metadata": {
        "id": "bZ9EEj9UHfsG"
      }
    },
    {
      "cell_type": "markdown",
      "source": [
        "# **Load and Explore the Dataset**\n",
        "\n",
        "\n",
        "---\n",
        "\n"
      ],
      "metadata": {
        "id": "8x5VOdXcHbey"
      }
    },
    {
      "cell_type": "code",
      "execution_count": 1,
      "metadata": {
        "colab": {
          "base_uri": "https://localhost:8080/"
        },
        "id": "tNLupdjUG1QI",
        "outputId": "694b11a7-173c-4b71-c143-bd3269f230d9"
      },
      "outputs": [
        {
          "output_type": "stream",
          "name": "stdout",
          "text": [
            "   Unnamed: 0 label                                               text  \\\n",
            "0         605   ham  Subject: enron methanol ; meter # : 988291\\r\\n...   \n",
            "1        2349   ham  Subject: hpl nom for january 9 , 2001\\r\\n( see...   \n",
            "2        3624   ham  Subject: neon retreat\\r\\nho ho ho , we ' re ar...   \n",
            "3        4685  spam  Subject: photoshop , windows , office . cheap ...   \n",
            "4        2030   ham  Subject: re : indian springs\\r\\nthis deal is t...   \n",
            "\n",
            "   label_num  \n",
            "0          0  \n",
            "1          0  \n",
            "2          0  \n",
            "3          1  \n",
            "4          0  \n"
          ]
        }
      ],
      "source": [
        "import pandas as pd\n",
        "\n",
        "df = pd.read_csv('spam_ham_dataset.csv')\n",
        "print(df.head())\n"
      ]
    },
    {
      "cell_type": "markdown",
      "source": [
        "# **Preprocess Text Data** ----- 📲\n",
        "\n",
        "\n",
        "---\n",
        "\n"
      ],
      "metadata": {
        "id": "9RoPyMWsHyXo"
      }
    },
    {
      "cell_type": "code",
      "source": [
        "from sklearn.model_selection import train_test_split\n",
        "from sklearn.feature_extraction.text import TfidfVectorizer\n",
        "\n",
        "# Features and labels\n",
        "X = df['text']\n",
        "y = df['label_num']\n",
        "\n",
        "# Convert text into numerical vectors\n",
        "vectorizer = TfidfVectorizer(stop_words='english', max_df=0.9)\n",
        "X_vect = vectorizer.fit_transform(X)\n",
        "\n",
        "# Split\n",
        "X_train, X_test, y_train, y_test = train_test_split(X_vect, y, test_size=0.2, random_state=42)\n"
      ],
      "metadata": {
        "id": "UZY-n8wvHHwH"
      },
      "execution_count": 2,
      "outputs": []
    },
    {
      "cell_type": "markdown",
      "source": [
        "# **Train the Logistic Regression Model** -----♻️"
      ],
      "metadata": {
        "id": "AhkKQmDnH7EN"
      }
    },
    {
      "cell_type": "code",
      "source": [
        "from sklearn.linear_model import LogisticRegression\n",
        "from sklearn.metrics import accuracy_score\n",
        "\n",
        "model = LogisticRegression()\n",
        "model.fit(X_train, y_train)\n",
        "\n",
        "# Evaluate\n",
        "y_pred = model.predict(X_test)\n",
        "print(\"Accuracy:\", accuracy_score(y_test, y_pred))\n"
      ],
      "metadata": {
        "colab": {
          "base_uri": "https://localhost:8080/"
        },
        "id": "pjBLGCBeHLIO",
        "outputId": "f1e0e7ad-89e9-4bcc-f9d0-2273f8f4f67a"
      },
      "execution_count": 3,
      "outputs": [
        {
          "output_type": "stream",
          "name": "stdout",
          "text": [
            "Accuracy: 0.9884057971014493\n"
          ]
        }
      ]
    },
    {
      "cell_type": "markdown",
      "source": [
        "# **Save the Model and Vectorizer**  ____ 📩\n",
        "\n",
        "\n",
        "---\n",
        "\n",
        "\n",
        "\n",
        "---\n",
        "\n"
      ],
      "metadata": {
        "id": "9-3jCxc8IAmS"
      }
    },
    {
      "cell_type": "code",
      "source": [
        "import pickle\n",
        "\n",
        "# Save both model and vectorizer\n",
        "with open('spam_classifier.pkl', 'wb') as f:\n",
        "    pickle.dump(model, f)\n",
        "\n",
        "with open('vectorizer.pkl', 'wb') as f:\n",
        "    pickle.dump(vectorizer, f)\n"
      ],
      "metadata": {
        "id": "FaZC0cwgHOen"
      },
      "execution_count": 4,
      "outputs": []
    },
    {
      "cell_type": "code",
      "source": [
        "from sklearn.metrics import accuracy_score\n",
        "print(accuracy_score(y_test, y_pred))\n"
      ],
      "metadata": {
        "colab": {
          "base_uri": "https://localhost:8080/"
        },
        "id": "kHlhl_DDM2eW",
        "outputId": "51d28d11-3855-4057-b4dc-bc68454fee96"
      },
      "execution_count": 5,
      "outputs": [
        {
          "output_type": "stream",
          "name": "stdout",
          "text": [
            "0.9884057971014493\n"
          ]
        }
      ]
    }
  ]
}